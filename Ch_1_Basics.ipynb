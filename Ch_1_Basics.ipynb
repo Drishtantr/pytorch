{
 "cells": [
  {
   "cell_type": "markdown",
   "id": "b6c9ad2f-22ad-4fb5-abc6-5dc9ba52221f",
   "metadata": {},
   "source": [
    "Tensor gym\n",
    "\n",
    "Create tensors from Python lists/NumPy, control dtype & device (CPU/GPU).\n",
    "\n",
    "Do reshaping (view, reshape, permute), broadcasting ops, indexing/slicing, and reductions.\n",
    "\n",
    "Show deterministic vs nondeterministic random seeds (torch.manual_seed).\n",
    "\n",
    "Deliverable: a short notebook demonstrating each op with a one-line explanation."
   ]
  },
  {
   "cell_type": "code",
   "execution_count": 2,
   "id": "8569d90d-384b-4162-9348-f4d02900974e",
   "metadata": {},
   "outputs": [],
   "source": [
    "import torch\n",
    "import numpy as np"
   ]
  },
  {
   "cell_type": "code",
   "execution_count": 7,
   "id": "9e9461e8-480e-46c8-974d-4aa2712b06b4",
   "metadata": {},
   "outputs": [
    {
     "name": "stdout",
     "output_type": "stream",
     "text": [
      "False\n"
     ]
    }
   ],
   "source": [
    "print(torch.cuda.is_available())"
   ]
  },
  {
   "cell_type": "code",
   "execution_count": 8,
   "id": "41ffc5e1-d592-4d5d-9c43-dfeb1bf66832",
   "metadata": {},
   "outputs": [
    {
     "name": "stdout",
     "output_type": "stream",
     "text": [
      "True\n"
     ]
    }
   ],
   "source": [
    "print(torch.backends.mps.is_available())"
   ]
  },
  {
   "cell_type": "code",
   "execution_count": 9,
   "id": "ad646f4f-ed74-4087-b0b7-8dc0c9f07da6",
   "metadata": {},
   "outputs": [],
   "source": [
    "# list to tensor\n",
    "l1 = [1,2,3]\n",
    "t1 = torch.tensor(l1)\n",
    "\n",
    "# numpy array to tensor\n",
    "l2 = np.array([1,2,3])\n",
    "t2 = torch.from_numpy(l2)\n",
    "\n",
    "# default tensor dtype is float32\n",
    "# can explicity reassign using dtype method\n",
    "l3 = [1,2,3]\n",
    "t3 = torch.tensor(l3, dtype=torch.float64)\n",
    "\n",
    "# decide where tensor should live (cpu is by default, if you use cuda, ir reroutes to gpu)\n",
    "t3 = torch.tensor(l3, device=\"cpu\")\n",
    "t3 = torch.tensor(l3, device=\"mps\")\n",
    "\n",
    "# call the whole thing now"
   ]
  },
  {
   "cell_type": "code",
   "execution_count": 20,
   "id": "3182e0cd-fde8-48c0-8555-2c0b22d98269",
   "metadata": {},
   "outputs": [],
   "source": [
    "t4 = torch.tensor(l3, dtype=torch.float32, device=\"mps\")"
   ]
  },
  {
   "cell_type": "code",
   "execution_count": 26,
   "id": "6e2e26d1-e6ab-4b63-9444-7c085b8a916d",
   "metadata": {},
   "outputs": [],
   "source": [
    "t4 = torch.tensor(l2, dtype=torch.float32, device=\"mps\")"
   ]
  },
  {
   "cell_type": "code",
   "execution_count": 35,
   "id": "c282f454-c87e-4643-a5c6-2742a1fe409b",
   "metadata": {},
   "outputs": [],
   "source": [
    "t5 = torch.tensor(l2, dtype=torch.float32, device=\"mps\")"
   ]
  },
  {
   "cell_type": "code",
   "execution_count": 36,
   "id": "2d71c5a8-8042-4666-8833-5e7ea2ff3da9",
   "metadata": {},
   "outputs": [
    {
     "name": "stdout",
     "output_type": "stream",
     "text": [
      "tensor([2., 3., 4.], device='mps:0')\n",
      "tensor([2., 4., 6.], device='mps:0')\n",
      "tensor([1.0000, 1.4142, 1.7321], device='mps:0')\n",
      "torch.float32\n",
      "mps:0\n"
     ]
    }
   ],
   "source": [
    "print(t5+1)\n",
    "print(t5*2)\n",
    "print(torch.sqrt(t5))\n",
    "print(t5.dtype)\n",
    "print(t5.device)"
   ]
  }
 ],
 "metadata": {
  "kernelspec": {
   "display_name": "Python (base)",
   "language": "python",
   "name": "base"
  },
  "language_info": {
   "codemirror_mode": {
    "name": "ipython",
    "version": 3
   },
   "file_extension": ".py",
   "mimetype": "text/x-python",
   "name": "python",
   "nbconvert_exporter": "python",
   "pygments_lexer": "ipython3",
   "version": "3.12.9"
  }
 },
 "nbformat": 4,
 "nbformat_minor": 5
}
